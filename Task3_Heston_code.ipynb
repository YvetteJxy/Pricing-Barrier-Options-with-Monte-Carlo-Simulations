{
 "cells": [
  {
   "cell_type": "code",
   "execution_count": 1,
   "metadata": {},
   "outputs": [
    {
     "name": "stderr",
     "output_type": "stream",
     "text": [
      "\n",
      "Bad key \"text.kerning_factor\" on line 4 in\n",
      "D:\\anaconda\\lib\\site-packages\\matplotlib\\mpl-data\\stylelib\\_classic_test_patch.mplstyle.\n",
      "You probably need to get an updated matplotlibrc file from\n",
      "http://github.com/matplotlib/matplotlib/blob/master/matplotlibrc.template\n",
      "or from the matplotlib source distribution\n"
     ]
    }
   ],
   "source": [
    "import numpy as np\n",
    "import matplotlib.pyplot as plt\n",
    "import math\n",
    "%matplotlib inline"
   ]
  },
  {
   "cell_type": "code",
   "execution_count": 2,
   "metadata": {},
   "outputs": [],
   "source": [
    "# define parameters\n",
    "S0 = 1.50 # underlying asset price\n",
    "U = 1.71 # upper bound\n",
    "L = 1.29 # lower bound\n",
    "K = 1.40 # strike price\n",
    "T = 1.0 # time to expiration\n",
    "r = 0.03 # risk-free interest rate\n",
    "N = 1000 # dt = T/N\n",
    "M = 10000 # number of simulations\n",
    "v0 = 0.04 # initial variance\n",
    "kappa = 1.0 # the speed at which the volatility reverts to its long-term mean (theta)\n",
    "theta = 0.04 # long-term mean level of the volatility\n",
    "rho = -0.5 # correlation between the Brownian motions driving the stock price and the volatility\n",
    "sigma_v = 1 # volitality of variance"
   ]
  },
  {
   "cell_type": "code",
   "execution_count": 3,
   "metadata": {},
   "outputs": [],
   "source": [
    "paths_S = np.zeros((M,N+1))"
   ]
  },
  {
   "cell_type": "code",
   "execution_count": 4,
   "metadata": {},
   "outputs": [
    {
     "data": {
      "text/plain": [
       "(10000, 1001)"
      ]
     },
     "execution_count": 4,
     "metadata": {},
     "output_type": "execute_result"
    }
   ],
   "source": [
    "paths_S.shape"
   ]
  },
  {
   "cell_type": "code",
   "execution_count": 5,
   "metadata": {},
   "outputs": [],
   "source": [
    "paths_S[:,0] = S0"
   ]
  },
  {
   "cell_type": "code",
   "execution_count": 6,
   "metadata": {},
   "outputs": [],
   "source": [
    "paths_V = np.zeros((M,N+1))"
   ]
  },
  {
   "cell_type": "code",
   "execution_count": 7,
   "metadata": {},
   "outputs": [
    {
     "data": {
      "text/plain": [
       "(10000, 1001)"
      ]
     },
     "execution_count": 7,
     "metadata": {},
     "output_type": "execute_result"
    }
   ],
   "source": [
    "paths_V.shape"
   ]
  },
  {
   "cell_type": "code",
   "execution_count": 8,
   "metadata": {},
   "outputs": [],
   "source": [
    "paths_V[:,0] = v0"
   ]
  },
  {
   "cell_type": "code",
   "execution_count": null,
   "metadata": {},
   "outputs": [
    {
     "name": "stdout",
     "output_type": "stream",
     "text": [
      "运行第1次\n",
      "payoff均值为0.09854458971853332\n",
      "期权价格为0.0956321569477209\n",
      "期权估计的标准误为0.0009493277617395621\n",
      "运行第2次\n",
      "payoff均值为0.10025821157890946\n",
      "期权价格为0.09729513362831402\n",
      "期权估计的标准误为0.0009568075863696685\n"
     ]
    }
   ],
   "source": [
    "import math\n",
    "dt = T/N # 每个小时间区间\n",
    "for k in range(10):\n",
    "    for i in range(M): # 进入每一次蒙特卡罗迭代\n",
    "        for j in range(1,N+1): # 进入每一个小时间点\n",
    "            z_v = np.random.randn(1)\n",
    "            z_s_0 = np.random.randn(1)\n",
    "            z_s = rho*z_v+np.sqrt(1-rho**2)*z_s_0\n",
    "            paths_V[i,j] = paths_V[i,j-1] + kappa*(theta-max(paths_V[i,j-1],0))*dt+sigma_v*np.sqrt(max(0,paths_V[i,j-1])*dt)*z_v\n",
    "            paths_S[i,j] = np.exp((math.log(paths_S[i,j-1]))-0.5*max(0,paths_V[i,j-1])*dt+np.sqrt(max(0,paths_V[i,j-1])*dt)*z_s)\n",
    "    # 得到每个 股价矩阵（一共10个）\n",
    "    # 下面考虑 每个股价矩阵的生存情况\n",
    "    payoff_local = np.zeros((M,N+1))\n",
    "    for i in range(10000): # 模拟次数\n",
    "        for j in range(1,1001): # 时间点1-1000\n",
    "            if (paths_S[i,j] < U and j<=501) or (j>=501 and j<=int(8/12*1000)+1) or(paths_S[i,j] > L and (j>=(int(8/12*1000)+1) and j<=(int(11/12*1000)+1))) or (paths_S[i,j]>=1.3 and paths_S[i,j]<=1.8 and j>=int(11/12*1000)+1):\n",
    "                payoff_local[i,j] = np.maximum(0,paths_S[i,j]-K)\n",
    "                if j == 1000:\n",
    "                    mark = i\n",
    "                    break\n",
    "            else:\n",
    "                paths_S[i,j:] = 0\n",
    "                payoff_local[i,j] = 0\n",
    "                mark0 = i\n",
    "                break\n",
    "    print(\"运行第{}次\".format(k+1))\n",
    "    print(\"payoff均值为{}\".format(payoff_local[:,-1].mean()))\n",
    "    option_v = payoff_local[:,-1]*np.exp(-r)\n",
    "    print(\"期权价格为{}\".format(payoff_local[:,-1].mean()*np.exp(-r)))\n",
    "    print(\"期权估计的标准误为{}\".format(((option_v.std())/100)))"
   ]
  },
  {
   "cell_type": "code",
   "execution_count": 48,
   "metadata": {},
   "outputs": [
    {
     "data": {
      "text/plain": [
       "9999"
      ]
     },
     "execution_count": 48,
     "metadata": {},
     "output_type": "execute_result"
    }
   ],
   "source": [
    "mark"
   ]
  },
  {
   "cell_type": "code",
   "execution_count": 49,
   "metadata": {},
   "outputs": [
    {
     "data": {
      "text/plain": [
       "9998"
      ]
     },
     "execution_count": 49,
     "metadata": {},
     "output_type": "execute_result"
    }
   ],
   "source": [
    "mark0"
   ]
  },
  {
   "cell_type": "code",
   "execution_count": 63,
   "metadata": {},
   "outputs": [
    {
     "data": {
      "image/png": "[encoded data removed]",
      "text/plain": [
       "<Figure size 720x720 with 1 Axes>"
      ]
     },
     "metadata": {
      "needs_background": "light"
     },
     "output_type": "display_data"
    }
   ],
   "source": [
    "# Plot the sample paths\n",
    "plt.figure(figsize=(10, 6))\n",
    "t_grid = np.linspace(0, T, N+1)\n",
    "plt.plot(t_grid, paths_S[mark0], label='Hits Barrier')\n",
    "plt.plot(t_grid, paths_S[mark], label = \"Doesn't Hit Barrier\")\n",
    "# Add annotations for the upper and lower bounds\n",
    "plt.axhline(y=1.71, linestyle='--', color='red', label='Upper Bound',xmin = 0,xmax = 0.5)\n",
    "plt.axhline(y=1.29, linestyle='--', color='green', label='Lower Bound',xmin = 8/12, xmax = 11/12)\n",
    "plt.axhline(y=1.3, linestyle='--', color='blue', label='Interval_Lower',xmin = 11/12, xmax = 1)\n",
    "plt.axhline(y=1.8, linestyle='--', color='blue', label='Interval_Upper',xmin = 11/12, xmax = 1)\n",
    "# Add legend\n",
    "plt.legend()\n",
    "# Show plot\n",
    "plt.show()"
   ]
  }
 ],
 "metadata": {
  "kernelspec": {
   "display_name": "Python 3",
   "language": "python",
   "name": "python3"
  },
  "language_info": {
   "codemirror_mode": {
    "name": "ipython",
    "version": 3
   },
   "file_extension": ".py",
   "mimetype": "text/x-python",
   "name": "python",
   "nbconvert_exporter": "python",
   "pygments_lexer": "ipython3",
   "version": "3.6.4"
  }
 },
 "nbformat": 4,
 "nbformat_minor": 2
}
